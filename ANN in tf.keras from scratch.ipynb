{
 "cells": [
  {
   "cell_type": "code",
   "execution_count": 31,
   "id": "4de645fe",
   "metadata": {},
   "outputs": [],
   "source": [
    "import tensorflow as tf\n",
    "from tensorflow import keras\n",
    "from tensorflow.keras.models import Sequential\n",
    "from tensorflow.keras.layers import Activation,Dense\n",
    "from tensorflow.keras.optimizers import Adam\n",
    "from tensorflow.keras.metrics import categorical_crossentropy\n",
    "from random import randint\n",
    "import numpy as np\n",
    "from random import shuffle\n",
    "from sklearn.preprocessing import MinMaxScaler"
   ]
  },
  {
   "cell_type": "code",
   "execution_count": 23,
   "id": "6a185155",
   "metadata": {},
   "outputs": [],
   "source": [
    "test_labels=[]\n",
    "test_samples=[]\n",
    "\n",
    "train_labels=[]\n",
    "train_samples=[]"
   ]
  },
  {
   "cell_type": "code",
   "execution_count": 25,
   "id": "d3f6c321",
   "metadata": {},
   "outputs": [],
   "source": [
    "#test\n",
    "for i in range(10):\n",
    "    random_younger=randint(13,64)\n",
    "    test_samples.append(random_younger)\n",
    "    test_labels.append(1)\n",
    "    #the 5% of older indivisuals who didnot experience side effects\n",
    "    random_older=randint(65,100)\n",
    "    test_samples.append(random_older)\n",
    "    test_labels.append(0)\n",
    "\n",
    "for i in range(200):\n",
    "    random_younger=randint(13,64)\n",
    "    test_samples.append(random_younger)\n",
    "    test_labels.append(0)\n",
    "    #the 5% of older indivisuals who didnot experience side effects\n",
    "    random_older=randint(65,100)\n",
    "    test_samples.append(random_older)\n",
    "    test_labels.append(1)\n",
    "\n",
    "#train   \n",
    "for i in range(10):\n",
    "    random_younger=randint(13,64)\n",
    "    train_samples.append(random_younger)\n",
    "    train_labels.append(1)\n",
    "    #the 5% of older indivisuals who didnot experience side effects\n",
    "    random_older=randint(65,100)\n",
    "    train_samples.append(random_older)\n",
    "    train_labels.append(0)\n",
    "\n",
    "for i in range(200):\n",
    "    random_younger=randint(13,64)\n",
    "    train_samples.append(random_younger)\n",
    "    train_labels.append(0)\n",
    "    #the 5% of older indivisuals who didnot experience side effects\n",
    "    random_older=randint(65,100)\n",
    "    train_samples.append(random_older)\n",
    "    train_labels.append(1)"
   ]
  },
  {
   "cell_type": "code",
   "execution_count": 30,
   "id": "aa1f0122",
   "metadata": {},
   "outputs": [],
   "source": [
    "train_labels=np.array(train_labels)\n",
    "test_labels=np.array(test_labels)\n",
    "\n",
    "train_samples=np.array(train_samples)\n",
    "test_samples=np.array(test_samples)\n",
    "\n",
    "# train_labels,train_samples=shuffle(train_labels,train_samples)"
   ]
  },
  {
   "cell_type": "code",
   "execution_count": 33,
   "id": "08f81629",
   "metadata": {},
   "outputs": [],
   "source": [
    "scaler=MinMaxScaler()\n",
    "scaled_train_sample=scaler.fit_transform(train_samples.reshape(-1,1))"
   ]
  },
  {
   "cell_type": "code",
   "execution_count": 34,
   "id": "4b3ced94",
   "metadata": {},
   "outputs": [
    {
     "name": "stdout",
     "output_type": "stream",
     "text": [
      "Number of GPU available 0\n"
     ]
    }
   ],
   "source": [
    "physical_devices=tf.config.experimental.list_physical_devices(\"GPU\")\n",
    "print(\"Number of GPU available\",len(physical_devices))\n",
    "# tf.config.experimental.set_memory_growth(physical_devices[0],True)"
   ]
  },
  {
   "cell_type": "code",
   "execution_count": 35,
   "id": "959393a1",
   "metadata": {},
   "outputs": [],
   "source": [
    "model=Sequential([\n",
    "    Dense(units=16,input_shape=(1,),activation=\"relu\"),\n",
    "    Dense(units=32,activation=\"relu\"),\n",
    "    Dense(units=2,activation=\"softmax\")\n",
    "])"
   ]
  },
  {
   "cell_type": "code",
   "execution_count": 36,
   "id": "9ee8cd48",
   "metadata": {},
   "outputs": [
    {
     "name": "stdout",
     "output_type": "stream",
     "text": [
      "Model: \"sequential_1\"\n",
      "_________________________________________________________________\n",
      " Layer (type)                Output Shape              Param #   \n",
      "=================================================================\n",
      " dense_3 (Dense)             (None, 16)                32        \n",
      "                                                                 \n",
      " dense_4 (Dense)             (None, 32)                544       \n",
      "                                                                 \n",
      " dense_5 (Dense)             (None, 2)                 66        \n",
      "                                                                 \n",
      "=================================================================\n",
      "Total params: 642\n",
      "Trainable params: 642\n",
      "Non-trainable params: 0\n",
      "_________________________________________________________________\n"
     ]
    }
   ],
   "source": [
    "model.summary()"
   ]
  },
  {
   "cell_type": "code",
   "execution_count": 37,
   "id": "d3012bd1",
   "metadata": {},
   "outputs": [],
   "source": [
    "model.compile(optimizer=Adam(learning_rate=0.0001),loss=\"sparse_categorical_crossentropy\",metrics=[\"accuracy\"])"
   ]
  },
  {
   "cell_type": "code",
   "execution_count": 43,
   "id": "ab97516c",
   "metadata": {},
   "outputs": [
    {
     "name": "stdout",
     "output_type": "stream",
     "text": [
      "Epoch 1/30\n",
      "84/84 - 0s - loss: 0.4206 - accuracy: 0.8893 - 195ms/epoch - 2ms/step\n",
      "Epoch 2/30\n",
      "84/84 - 0s - loss: 0.4115 - accuracy: 0.8917 - 189ms/epoch - 2ms/step\n",
      "Epoch 3/30\n",
      "84/84 - 0s - loss: 0.4029 - accuracy: 0.8917 - 194ms/epoch - 2ms/step\n",
      "Epoch 4/30\n",
      "84/84 - 0s - loss: 0.3945 - accuracy: 0.8964 - 195ms/epoch - 2ms/step\n",
      "Epoch 5/30\n",
      "84/84 - 0s - loss: 0.3865 - accuracy: 0.8964 - 224ms/epoch - 3ms/step\n",
      "Epoch 6/30\n",
      "84/84 - 0s - loss: 0.3790 - accuracy: 0.8976 - 153ms/epoch - 2ms/step\n",
      "Epoch 7/30\n",
      "84/84 - 0s - loss: 0.3720 - accuracy: 0.9024 - 228ms/epoch - 3ms/step\n",
      "Epoch 8/30\n",
      "84/84 - 0s - loss: 0.3651 - accuracy: 0.9131 - 178ms/epoch - 2ms/step\n",
      "Epoch 9/30\n",
      "84/84 - 0s - loss: 0.3588 - accuracy: 0.9155 - 202ms/epoch - 2ms/step\n",
      "Epoch 10/30\n",
      "84/84 - 0s - loss: 0.3528 - accuracy: 0.9119 - 221ms/epoch - 3ms/step\n",
      "Epoch 11/30\n",
      "84/84 - 0s - loss: 0.3471 - accuracy: 0.9167 - 184ms/epoch - 2ms/step\n",
      "Epoch 12/30\n",
      "84/84 - 0s - loss: 0.3416 - accuracy: 0.9167 - 201ms/epoch - 2ms/step\n",
      "Epoch 13/30\n",
      "84/84 - 0s - loss: 0.3366 - accuracy: 0.9167 - 203ms/epoch - 2ms/step\n",
      "Epoch 14/30\n",
      "84/84 - 0s - loss: 0.3319 - accuracy: 0.9167 - 188ms/epoch - 2ms/step\n",
      "Epoch 15/30\n",
      "84/84 - 0s - loss: 0.3275 - accuracy: 0.9179 - 201ms/epoch - 2ms/step\n",
      "Epoch 16/30\n",
      "84/84 - 0s - loss: 0.3232 - accuracy: 0.9190 - 219ms/epoch - 3ms/step\n",
      "Epoch 17/30\n",
      "84/84 - 0s - loss: 0.3193 - accuracy: 0.9202 - 192ms/epoch - 2ms/step\n",
      "Epoch 18/30\n",
      "84/84 - 0s - loss: 0.3156 - accuracy: 0.9202 - 206ms/epoch - 2ms/step\n",
      "Epoch 19/30\n",
      "84/84 - 0s - loss: 0.3122 - accuracy: 0.9238 - 200ms/epoch - 2ms/step\n",
      "Epoch 20/30\n",
      "84/84 - 0s - loss: 0.3089 - accuracy: 0.9202 - 204ms/epoch - 2ms/step\n",
      "Epoch 21/30\n",
      "84/84 - 0s - loss: 0.3059 - accuracy: 0.9250 - 194ms/epoch - 2ms/step\n",
      "Epoch 22/30\n",
      "84/84 - 0s - loss: 0.3031 - accuracy: 0.9202 - 189ms/epoch - 2ms/step\n",
      "Epoch 23/30\n",
      "84/84 - 0s - loss: 0.3005 - accuracy: 0.9250 - 197ms/epoch - 2ms/step\n",
      "Epoch 24/30\n",
      "84/84 - 0s - loss: 0.2979 - accuracy: 0.9286 - 197ms/epoch - 2ms/step\n",
      "Epoch 25/30\n",
      "84/84 - 0s - loss: 0.2958 - accuracy: 0.9274 - 196ms/epoch - 2ms/step\n",
      "Epoch 26/30\n",
      "84/84 - 0s - loss: 0.2934 - accuracy: 0.9238 - 210ms/epoch - 3ms/step\n",
      "Epoch 27/30\n",
      "84/84 - 0s - loss: 0.2917 - accuracy: 0.9286 - 196ms/epoch - 2ms/step\n",
      "Epoch 28/30\n",
      "84/84 - 0s - loss: 0.2896 - accuracy: 0.9286 - 204ms/epoch - 2ms/step\n",
      "Epoch 29/30\n",
      "84/84 - 0s - loss: 0.2878 - accuracy: 0.9286 - 199ms/epoch - 2ms/step\n",
      "Epoch 30/30\n",
      "84/84 - 0s - loss: 0.2861 - accuracy: 0.9286 - 206ms/epoch - 2ms/step\n"
     ]
    },
    {
     "data": {
      "text/plain": [
       "<keras.callbacks.History at 0x16adeb3e5e0>"
      ]
     },
     "execution_count": 43,
     "metadata": {},
     "output_type": "execute_result"
    }
   ],
   "source": [
    "model.fit(x=scaled_train_sample,y=train_labels,batch_size=10,epochs=30,shuffle=True,verbose=2)"
   ]
  },
  {
   "cell_type": "code",
   "execution_count": 45,
   "id": "0d1ffbba",
   "metadata": {},
   "outputs": [
    {
     "data": {
      "text/plain": [
       "array([1, 0, 1, 0, 1, 0, 1, 0, 1, 0])"
      ]
     },
     "execution_count": 45,
     "metadata": {},
     "output_type": "execute_result"
    }
   ],
   "source": [
    "test_labels[:10]"
   ]
  },
  {
   "cell_type": "code",
   "execution_count": 48,
   "id": "1f9ed866",
   "metadata": {},
   "outputs": [
    {
     "data": {
      "text/plain": [
       "array([59, 90, 19, 91, 32, 87, 34, 71, 55, 95])"
      ]
     },
     "execution_count": 48,
     "metadata": {},
     "output_type": "execute_result"
    }
   ],
   "source": [
    "test_samples[:10]"
   ]
  },
  {
   "cell_type": "code",
   "execution_count": 55,
   "id": "d08f7e8a",
   "metadata": {},
   "outputs": [],
   "source": [
    "scaled_test_samples=scaler.fit_transform(test_samples.reshape(-1,1))"
   ]
  },
  {
   "cell_type": "code",
   "execution_count": 56,
   "id": "6ffec2ff",
   "metadata": {},
   "outputs": [
    {
     "data": {
      "text/plain": [
       "array([[0.52873563],\n",
       "       [0.88505747],\n",
       "       [0.06896552],\n",
       "       [0.89655172],\n",
       "       [0.2183908 ],\n",
       "       [0.85057471],\n",
       "       [0.24137931],\n",
       "       [0.66666667],\n",
       "       [0.48275862],\n",
       "       [0.94252874]])"
      ]
     },
     "execution_count": 56,
     "metadata": {},
     "output_type": "execute_result"
    }
   ],
   "source": [
    "scaled_test_samples[:10]"
   ]
  },
  {
   "cell_type": "code",
   "execution_count": 59,
   "id": "a8623d28",
   "metadata": {},
   "outputs": [
    {
     "name": "stdout",
     "output_type": "stream",
     "text": [
      "84/84 [==============================] - 0s 2ms/step\n"
     ]
    }
   ],
   "source": [
    "predictions=model.predict(x=scaled_test_samples,batch_size=10,verbose=1)"
   ]
  },
  {
   "cell_type": "code",
   "execution_count": 78,
   "id": "15362ae4",
   "metadata": {},
   "outputs": [
    {
     "data": {
      "text/plain": [
       "array([0, 1, 0, 1, 0, 1, 0, 1, 0, 1], dtype=int64)"
      ]
     },
     "execution_count": 78,
     "metadata": {},
     "output_type": "execute_result"
    }
   ],
   "source": [
    "import pandas as pd\n",
    "data=[]\n",
    "for i in predictions:\n",
    "    data.append(i)\n",
    "rouded_prediction=np.argmax(data,axis=1)\n",
    "rouded_prediction[:10]"
   ]
  },
  {
   "cell_type": "code",
   "execution_count": 82,
   "id": "ccf7ffaf",
   "metadata": {},
   "outputs": [
    {
     "data": {
      "text/html": [
       "<div>\n",
       "<style scoped>\n",
       "    .dataframe tbody tr th:only-of-type {\n",
       "        vertical-align: middle;\n",
       "    }\n",
       "\n",
       "    .dataframe tbody tr th {\n",
       "        vertical-align: top;\n",
       "    }\n",
       "\n",
       "    .dataframe thead th {\n",
       "        text-align: right;\n",
       "    }\n",
       "</style>\n",
       "<table border=\"1\" class=\"dataframe\">\n",
       "  <thead>\n",
       "    <tr style=\"text-align: right;\">\n",
       "      <th></th>\n",
       "      <th>No sideeffect-0 side-effect-1</th>\n",
       "    </tr>\n",
       "  </thead>\n",
       "  <tbody>\n",
       "    <tr>\n",
       "      <th>0</th>\n",
       "      <td>0</td>\n",
       "    </tr>\n",
       "    <tr>\n",
       "      <th>1</th>\n",
       "      <td>1</td>\n",
       "    </tr>\n",
       "    <tr>\n",
       "      <th>2</th>\n",
       "      <td>0</td>\n",
       "    </tr>\n",
       "    <tr>\n",
       "      <th>3</th>\n",
       "      <td>1</td>\n",
       "    </tr>\n",
       "    <tr>\n",
       "      <th>4</th>\n",
       "      <td>0</td>\n",
       "    </tr>\n",
       "    <tr>\n",
       "      <th>...</th>\n",
       "      <td>...</td>\n",
       "    </tr>\n",
       "    <tr>\n",
       "      <th>835</th>\n",
       "      <td>1</td>\n",
       "    </tr>\n",
       "    <tr>\n",
       "      <th>836</th>\n",
       "      <td>0</td>\n",
       "    </tr>\n",
       "    <tr>\n",
       "      <th>837</th>\n",
       "      <td>1</td>\n",
       "    </tr>\n",
       "    <tr>\n",
       "      <th>838</th>\n",
       "      <td>0</td>\n",
       "    </tr>\n",
       "    <tr>\n",
       "      <th>839</th>\n",
       "      <td>1</td>\n",
       "    </tr>\n",
       "  </tbody>\n",
       "</table>\n",
       "<p>840 rows × 1 columns</p>\n",
       "</div>"
      ],
      "text/plain": [
       "     No sideeffect-0 side-effect-1\n",
       "0                                0\n",
       "1                                1\n",
       "2                                0\n",
       "3                                1\n",
       "4                                0\n",
       "..                             ...\n",
       "835                              1\n",
       "836                              0\n",
       "837                              1\n",
       "838                              0\n",
       "839                              1\n",
       "\n",
       "[840 rows x 1 columns]"
      ]
     },
     "execution_count": 82,
     "metadata": {},
     "output_type": "execute_result"
    }
   ],
   "source": [
    "data=pd.DataFrame(rouded_prediction)\n",
    "data.columns=[\"No sideeffect-0 side-effect-1\"]\n",
    "data"
   ]
  },
  {
   "cell_type": "code",
   "execution_count": 83,
   "id": "39c5919c",
   "metadata": {},
   "outputs": [],
   "source": [
    "from sklearn.metrics import confusion_matrix\n",
    "import itertools\n",
    "import matplotlib.pyplot as plt"
   ]
  },
  {
   "cell_type": "code",
   "execution_count": 84,
   "id": "5f112dc9",
   "metadata": {},
   "outputs": [
    {
     "data": {
      "text/plain": [
       "array([[378,  42],\n",
       "       [ 20, 400]], dtype=int64)"
      ]
     },
     "execution_count": 84,
     "metadata": {},
     "output_type": "execute_result"
    }
   ],
   "source": [
    "cm=confusion_matrix(test_labels,data)\n",
    "cm"
   ]
  },
  {
   "cell_type": "code",
   "execution_count": 85,
   "id": "56e4e8a0",
   "metadata": {},
   "outputs": [],
   "source": [
    "model.save(\"model_ANN.h5\")"
   ]
  },
  {
   "cell_type": "code",
   "execution_count": 90,
   "id": "07bd833b",
   "metadata": {},
   "outputs": [],
   "source": [
    "new_model=tf.keras.models.load_model(\"model_ANN.h5\")"
   ]
  },
  {
   "cell_type": "code",
   "execution_count": 91,
   "id": "0de3942b",
   "metadata": {},
   "outputs": [
    {
     "name": "stdout",
     "output_type": "stream",
     "text": [
      "Model: \"sequential_1\"\n",
      "_________________________________________________________________\n",
      " Layer (type)                Output Shape              Param #   \n",
      "=================================================================\n",
      " dense_3 (Dense)             (None, 16)                32        \n",
      "                                                                 \n",
      " dense_4 (Dense)             (None, 32)                544       \n",
      "                                                                 \n",
      " dense_5 (Dense)             (None, 2)                 66        \n",
      "                                                                 \n",
      "=================================================================\n",
      "Total params: 642\n",
      "Trainable params: 642\n",
      "Non-trainable params: 0\n",
      "_________________________________________________________________\n"
     ]
    }
   ],
   "source": [
    "new_model.summary()"
   ]
  },
  {
   "cell_type": "code",
   "execution_count": 93,
   "id": "12a11540",
   "metadata": {},
   "outputs": [
    {
     "data": {
      "text/plain": [
       "[array([[-0.34753388, -0.0636487 , -0.05085206, -0.27627534, -0.03708988,\n",
       "          0.26212853,  0.30754185, -0.19937563, -0.3399579 , -0.59086746,\n",
       "         -0.10424989, -0.41664332, -0.40137053,  0.65642023, -0.01833791,\n",
       "         -0.5625322 ]], dtype=float32),\n",
       " array([ 0.        ,  0.        ,  0.        ,  0.        ,  0.        ,\n",
       "        -0.0007632 , -0.07492477,  0.17462187,  0.        ,  0.        ,\n",
       "         0.        ,  0.        ,  0.        , -0.083587  ,  0.        ,\n",
       "         0.        ], dtype=float32),\n",
       " array([[ 3.11071128e-01, -2.78314263e-01,  1.77102238e-01,\n",
       "          2.20243663e-01,  3.22945982e-01,  3.46935481e-01,\n",
       "         -9.12007987e-02, -1.43536031e-02, -2.23286331e-01,\n",
       "         -2.43079156e-01, -1.62301108e-01, -2.64636010e-01,\n",
       "          2.52559274e-01,  3.06098491e-01, -1.59889624e-01,\n",
       "         -1.78153798e-01, -2.46211261e-01, -4.34812903e-03,\n",
       "         -1.27933323e-02,  5.25504649e-02,  3.35691273e-02,\n",
       "         -3.07295442e-01, -7.42248893e-02, -2.33482838e-01,\n",
       "          1.99996561e-01,  1.79206938e-01, -2.59573758e-01,\n",
       "          6.98285699e-02, -2.92988181e-01,  2.35007137e-01,\n",
       "          3.57571244e-02,  2.09444016e-01],\n",
       "        [-3.38190436e-01,  5.73432446e-02,  1.08939320e-01,\n",
       "          1.91961676e-01,  5.29151857e-02, -1.87632293e-01,\n",
       "         -8.02665651e-02, -2.82212943e-01,  5.84440231e-02,\n",
       "         -1.69257864e-01, -1.30506158e-02, -2.55113691e-01,\n",
       "         -2.70633578e-01, -2.60661304e-01,  2.05652446e-01,\n",
       "          2.43116230e-01, -1.36801243e-01,  1.35217875e-01,\n",
       "         -6.19125366e-02,  2.91191787e-01,  8.28419030e-02,\n",
       "         -3.21688265e-01,  2.81163484e-01,  1.05012506e-01,\n",
       "          2.91602939e-01, -2.29567230e-01,  3.02884877e-02,\n",
       "         -5.76725602e-02,  3.41464967e-01, -1.29781961e-02,\n",
       "         -1.97258204e-01,  1.36146724e-01],\n",
       "        [-4.07469869e-02, -2.03713477e-02,  2.24500299e-02,\n",
       "         -1.79462969e-01, -2.24415272e-01,  2.20188111e-01,\n",
       "          2.31068432e-02, -3.31058264e-01,  2.29243428e-01,\n",
       "          1.18519455e-01,  2.43395776e-01, -8.47370923e-02,\n",
       "         -1.62547320e-01, -2.25793481e-01,  2.30417639e-01,\n",
       "          3.28631848e-01, -6.90525472e-02,  8.74102116e-02,\n",
       "         -3.03495646e-01, -2.60885656e-02,  1.89384848e-01,\n",
       "          1.41891539e-02,  7.98875690e-02,  2.93031365e-01,\n",
       "         -3.02307367e-01, -2.75121897e-01, -1.81409553e-01,\n",
       "          2.59109110e-01, -1.00525975e-01,  2.92835444e-01,\n",
       "          3.47730190e-01, -1.09947801e-01],\n",
       "        [-1.53079972e-01, -2.36709416e-02, -2.80475140e-01,\n",
       "          8.35540295e-02, -1.21532708e-01,  1.81434602e-01,\n",
       "         -9.20172632e-02, -2.10531682e-01,  2.92592257e-01,\n",
       "         -3.46620142e-01,  2.33477622e-01,  3.47126812e-01,\n",
       "         -3.90991271e-02,  2.21517980e-02, -1.32782638e-01,\n",
       "         -3.77932489e-02,  1.50462657e-01,  3.27316195e-01,\n",
       "          7.84179270e-02,  1.06386483e-01,  2.85462141e-02,\n",
       "         -2.05988675e-01, -2.20747486e-01, -2.47794896e-01,\n",
       "         -3.43128860e-01,  9.59401429e-02, -1.66183174e-01,\n",
       "         -1.73407972e-01,  3.27613741e-01,  1.11892223e-02,\n",
       "          1.68664128e-01,  3.49088699e-01],\n",
       "        [ 1.01453960e-01, -2.93967366e-01,  2.04718858e-01,\n",
       "         -1.61496356e-01,  2.91353732e-01, -1.12617478e-01,\n",
       "          3.47903460e-01,  2.60525495e-01,  2.54521698e-01,\n",
       "          1.02899015e-01, -1.64415866e-01, -3.46076190e-01,\n",
       "         -2.46483192e-01, -7.19718039e-02,  2.17587143e-01,\n",
       "          4.47919965e-02, -2.43960023e-01,  2.07762688e-01,\n",
       "          8.51103663e-03, -3.48908603e-02, -7.72240758e-03,\n",
       "          5.64958155e-02, -2.00644284e-01, -1.27537459e-01,\n",
       "          1.92110807e-01,  1.03631943e-01, -2.30002090e-01,\n",
       "          2.96800524e-01,  2.71716326e-01,  2.30537385e-01,\n",
       "          7.93546736e-02, -1.12574145e-01],\n",
       "        [-3.70083153e-02, -2.43517995e-01,  1.41283825e-01,\n",
       "          3.01197141e-01,  2.27882683e-01,  3.37111503e-01,\n",
       "         -4.27669212e-02,  4.49564517e-01,  4.73368734e-01,\n",
       "         -2.24951386e-01,  4.57996070e-01,  5.33018887e-01,\n",
       "         -6.47339299e-02, -8.96209180e-02, -2.98523128e-01,\n",
       "          1.08629771e-01,  1.41268879e-01,  2.74593890e-01,\n",
       "          3.24638814e-01,  1.76545009e-01,  3.31548184e-01,\n",
       "         -3.81573707e-01,  5.94584122e-02,  1.29403666e-01,\n",
       "          1.74591362e-01,  5.55131137e-01, -2.89547503e-01,\n",
       "          1.91273123e-01,  2.15738326e-01,  1.89623326e-01,\n",
       "         -1.64791226e-01, -1.28464038e-02],\n",
       "        [-1.13476515e-01, -9.43158865e-02,  6.20178282e-01,\n",
       "         -1.05120808e-01, -5.83607256e-02, -3.17246079e-01,\n",
       "         -2.59977549e-01,  2.94484019e-01,  1.14436150e-01,\n",
       "         -4.34656084e-01,  5.48244417e-01,  5.09911597e-01,\n",
       "         -4.68857318e-01, -1.22374818e-01, -2.46453509e-01,\n",
       "         -2.13708803e-01,  1.07389130e-01,  4.75096673e-01,\n",
       "          3.08215320e-01,  5.47223330e-01,  4.69595939e-01,\n",
       "         -3.86388659e-01,  2.72303522e-01,  6.13967590e-02,\n",
       "         -6.29218400e-01,  5.64183891e-01,  2.14720577e-01,\n",
       "         -5.98761261e-01, -2.99044371e-01, -2.15494052e-01,\n",
       "         -1.81991264e-01,  2.84320027e-01],\n",
       "        [-2.80508608e-01, -1.72333151e-01, -3.30603272e-01,\n",
       "         -1.40239209e-01, -3.38192791e-01, -3.49170268e-01,\n",
       "          3.78907830e-01, -4.87351954e-01, -5.88348508e-01,\n",
       "          3.28269094e-01, -5.97513497e-01, -2.26265669e-01,\n",
       "          7.02110291e-01,  3.98028642e-01,  6.17033243e-01,\n",
       "          3.14452469e-01, -6.84032917e-01, -1.54961482e-01,\n",
       "         -7.13366196e-02, -5.26041210e-01, -5.71834862e-01,\n",
       "          3.27565134e-01, -4.84518588e-01,  9.41848382e-02,\n",
       "          7.38594472e-01, -6.39471054e-01, -3.23722273e-01,\n",
       "          7.13039100e-01, -1.45341828e-01, -8.64222348e-02,\n",
       "         -2.06382319e-01,  1.59171168e-02],\n",
       "        [ 6.79937303e-02, -5.07742167e-02,  2.84593970e-01,\n",
       "         -2.98316389e-01,  2.81699866e-01, -3.97263467e-02,\n",
       "         -1.60853952e-01, -1.97702765e-01, -2.50757903e-01,\n",
       "          2.91465670e-01,  1.06692642e-01, -2.97138304e-01,\n",
       "         -8.10730159e-02, -1.07735947e-01,  2.54257619e-02,\n",
       "         -1.80950493e-01, -3.46999973e-01,  2.18023628e-01,\n",
       "          2.54629225e-01, -1.53720424e-01, -7.00946748e-02,\n",
       "         -2.13146389e-01, -2.91422874e-01, -9.23531950e-02,\n",
       "          5.35871983e-02, -3.48718375e-01, -3.00556600e-01,\n",
       "          2.97519565e-02,  7.19601810e-02, -3.26482713e-01,\n",
       "         -2.49360308e-01,  1.75772399e-01],\n",
       "        [ 1.82291418e-01,  2.67139286e-01,  1.95656210e-01,\n",
       "          2.43592173e-01, -3.46101582e-01, -9.31301713e-03,\n",
       "         -1.15737349e-01, -2.74430007e-01,  5.26107252e-02,\n",
       "         -6.19597435e-02, -2.64591277e-02,  4.71023917e-02,\n",
       "         -3.69025171e-02, -3.05396557e-01, -1.88505903e-01,\n",
       "          4.23634052e-02, -5.28614223e-02,  5.23301959e-02,\n",
       "          3.09072524e-01, -3.11261207e-01,  3.96395326e-02,\n",
       "         -3.48125964e-01,  8.67995918e-02, -2.23653421e-01,\n",
       "         -5.79617023e-02,  7.19925761e-03,  1.47079021e-01,\n",
       "          5.46014011e-02,  3.52004468e-02,  2.34613806e-01,\n",
       "         -3.52227360e-01,  1.50447458e-01],\n",
       "        [-8.11162591e-02, -2.43345112e-01, -2.22142890e-01,\n",
       "          3.42167169e-01, -1.38522267e-01, -4.76218164e-02,\n",
       "         -1.36183038e-01, -1.85471773e-03, -7.65049458e-03,\n",
       "         -4.83544171e-02, -3.11254978e-01, -3.26081306e-01,\n",
       "         -7.65978396e-02,  1.92567706e-03, -1.06626123e-01,\n",
       "          3.20110321e-02, -1.86709523e-01, -2.55045414e-01,\n",
       "          5.04114926e-02,  3.08339030e-01, -1.93887725e-01,\n",
       "         -2.39686668e-01, -2.73935378e-01,  3.18738818e-02,\n",
       "          2.83317834e-01,  2.03978330e-01,  5.37725389e-02,\n",
       "         -5.67455888e-02,  2.64773756e-01,  1.39886737e-01,\n",
       "          2.54446179e-01,  1.73013896e-01],\n",
       "        [-2.21713915e-01, -1.53417975e-01, -2.57617891e-01,\n",
       "          2.92746276e-01, -2.62620389e-01,  2.72806615e-01,\n",
       "         -7.59702921e-02,  2.21131355e-01, -3.47805411e-01,\n",
       "         -2.75537193e-01,  1.59482747e-01,  3.38938564e-01,\n",
       "         -3.29776317e-01, -2.22004056e-01, -1.47765279e-02,\n",
       "         -1.58369228e-01, -2.70932913e-04,  2.85293728e-01,\n",
       "         -4.67613339e-02, -2.12255403e-01,  1.97812408e-01,\n",
       "          3.45536143e-01, -2.80001730e-01,  1.37879521e-01,\n",
       "         -2.63636202e-01,  3.24669570e-01,  2.59197146e-01,\n",
       "          1.51617318e-01, -2.81110793e-01,  7.24656880e-02,\n",
       "         -1.05088279e-01, -1.11013621e-01],\n",
       "        [ 1.09122306e-01, -2.32870936e-01, -1.28824785e-01,\n",
       "          1.51054889e-01, -6.98798895e-02, -3.01625013e-01,\n",
       "          9.02883112e-02, -1.66597962e-03, -2.41123050e-01,\n",
       "          2.74528563e-02,  2.86687583e-01, -1.01329118e-01,\n",
       "          2.76927322e-01, -2.97076344e-01, -2.46058777e-01,\n",
       "         -6.44016564e-02,  4.70477343e-03,  1.87925309e-01,\n",
       "          1.23833686e-01,  1.51522964e-01, -3.63381803e-02,\n",
       "         -1.19543552e-01, -6.76214993e-02, -1.02786988e-01,\n",
       "         -3.57227325e-02, -9.79813039e-02, -4.95138764e-02,\n",
       "         -1.74501687e-01,  3.53482634e-01, -6.37495518e-03,\n",
       "          4.44408953e-02,  1.61304086e-01],\n",
       "        [-1.27897263e-02, -4.06327844e-03,  1.70118853e-01,\n",
       "         -9.55024064e-02, -1.25078350e-01, -1.35832131e-01,\n",
       "         -1.24952674e-01,  5.83482504e-01,  1.19050503e-01,\n",
       "         -5.10736629e-02,  4.85774517e-01,  4.77625459e-01,\n",
       "         -1.95424691e-01, -3.65801811e-01,  1.35037419e-03,\n",
       "         -3.64787132e-01,  3.83348733e-01,  4.48753178e-01,\n",
       "          1.28375053e-01,  5.60291588e-01,  6.05542243e-01,\n",
       "         -7.72115067e-02,  4.83606696e-01, -3.92321199e-02,\n",
       "         -2.57491291e-01,  3.43379676e-01, -1.08309478e-01,\n",
       "         -3.71741503e-01, -6.12070672e-02, -6.11444041e-02,\n",
       "         -2.05713540e-01, -1.19769454e-01],\n",
       "        [ 2.24273175e-01,  1.57076269e-01, -7.21791685e-02,\n",
       "         -1.02330357e-01,  9.13639069e-02,  1.85798734e-01,\n",
       "          1.02519512e-01,  2.02689320e-01,  1.58495098e-01,\n",
       "          1.38543099e-01, -2.19274625e-01, -1.69437066e-01,\n",
       "          1.86189443e-01, -1.12919077e-01,  3.40462178e-01,\n",
       "         -3.58433723e-02,  2.70143062e-01,  2.78585345e-01,\n",
       "          3.38367313e-01,  5.90637624e-02, -2.34387308e-01,\n",
       "          3.03931206e-01, -3.06189924e-01,  1.62666947e-01,\n",
       "          3.19961935e-01, -1.32422745e-02,  7.15368688e-02,\n",
       "          1.07946336e-01,  1.24026358e-01,  9.81212258e-02,\n",
       "          3.03370506e-01, -1.46188781e-01],\n",
       "        [-9.10399854e-02,  3.19344491e-01,  8.04087818e-02,\n",
       "          1.31060779e-01, -3.18230778e-01,  5.37841022e-02,\n",
       "         -1.05492711e-01, -5.78273237e-02,  2.09511727e-01,\n",
       "         -1.29249722e-01, -8.98308754e-02,  8.83571506e-02,\n",
       "         -3.38661134e-01,  3.16943258e-01,  3.01925153e-01,\n",
       "         -4.33061421e-02,  3.25804085e-01, -2.53507793e-01,\n",
       "         -1.02894008e-02,  2.87517309e-02, -3.40969443e-01,\n",
       "         -9.28497612e-02, -1.81703314e-01,  1.15583092e-01,\n",
       "         -1.71645314e-01, -3.15084100e-01,  3.22989255e-01,\n",
       "          2.88480818e-02,  1.56609446e-01,  2.53836364e-01,\n",
       "          3.10427219e-01,  5.76838851e-03]], dtype=float32),\n",
       " array([ 0.        ,  0.        , -0.01943594, -0.00236519, -0.00111244,\n",
       "        -0.00111231,  0.17520851, -0.05463783, -0.00345767,  0.16786875,\n",
       "        -0.04268785, -0.07100125,  0.20744947,  0.2303446 ,  0.16256544,\n",
       "         0.20865914, -0.00134493, -0.06818948, -0.0487916 , -0.04262669,\n",
       "        -0.04669931,  0.19546194, -0.02605685, -0.02583108,  0.21237902,\n",
       "        -0.03621919,  0.        ,  0.25965622, -0.00268797, -0.00198147,\n",
       "         0.        , -0.00346705], dtype=float32),\n",
       " array([[ 0.06169969, -0.34073737],\n",
       "        [ 0.21211717,  0.35321918],\n",
       "        [-0.27248037,  0.6267216 ],\n",
       "        [-0.39930993, -0.31951523],\n",
       "        [-0.11000517,  0.11693436],\n",
       "        [ 0.19932419,  0.36149976],\n",
       "        [ 0.02800709, -0.5407819 ],\n",
       "        [-0.46626163,  0.48753014],\n",
       "        [-0.6048802 ,  0.3469704 ],\n",
       "        [ 0.4118717 , -0.3427773 ],\n",
       "        [-0.47681436,  0.7123764 ],\n",
       "        [-0.6187876 ,  0.39160287],\n",
       "        [ 0.7057292 , -0.04170781],\n",
       "        [ 0.25049523, -0.7629883 ],\n",
       "        [ 0.25658485, -0.45358863],\n",
       "        [ 0.68870026, -0.61409014],\n",
       "        [-0.4492288 ,  0.7117547 ],\n",
       "        [-0.27802628,  0.16444026],\n",
       "        [-0.5046881 ,  0.06419377],\n",
       "        [-0.36091936,  0.19638443],\n",
       "        [-0.37392372,  0.46678898],\n",
       "        [ 0.24025458, -0.72672576],\n",
       "        [-0.655766  ,  0.24729171],\n",
       "        [ 0.00962249, -0.2686437 ],\n",
       "        [ 0.8295042 , -0.39305156],\n",
       "        [-0.3482865 ,  0.57048064],\n",
       "        [-0.14416671,  0.06651127],\n",
       "        [ 0.7566272 , -0.41609144],\n",
       "        [-0.26837713,  0.08818544],\n",
       "        [ 0.22287093,  0.22224374],\n",
       "        [-0.13086793,  0.22062048],\n",
       "        [-0.34446618, -0.03329849]], dtype=float32),\n",
       " array([ 0.14439921, -0.14439923], dtype=float32)]"
      ]
     },
     "execution_count": 93,
     "metadata": {},
     "output_type": "execute_result"
    }
   ],
   "source": [
    "new_model.get_weights()"
   ]
  },
  {
   "cell_type": "code",
   "execution_count": 96,
   "id": "3e30f41a",
   "metadata": {},
   "outputs": [
    {
     "data": {
      "text/plain": [
       "<keras.optimizer_v2.adam.Adam at 0x16ae3189850>"
      ]
     },
     "execution_count": 96,
     "metadata": {},
     "output_type": "execute_result"
    }
   ],
   "source": [
    "new_model.optimizer"
   ]
  },
  {
   "cell_type": "code",
   "execution_count": 97,
   "id": "9ad8ba4f",
   "metadata": {},
   "outputs": [],
   "source": [
    "json_string=model.to_json()"
   ]
  },
  {
   "cell_type": "code",
   "execution_count": 98,
   "id": "b928b456",
   "metadata": {},
   "outputs": [
    {
     "data": {
      "text/plain": [
       "'{\"class_name\": \"Sequential\", \"config\": {\"name\": \"sequential_1\", \"layers\": [{\"class_name\": \"InputLayer\", \"config\": {\"batch_input_shape\": [null, 1], \"dtype\": \"float32\", \"sparse\": false, \"ragged\": false, \"name\": \"dense_3_input\"}}, {\"class_name\": \"Dense\", \"config\": {\"name\": \"dense_3\", \"trainable\": true, \"batch_input_shape\": [null, 1], \"dtype\": \"float32\", \"units\": 16, \"activation\": \"relu\", \"use_bias\": true, \"kernel_initializer\": {\"class_name\": \"GlorotUniform\", \"config\": {\"seed\": null}}, \"bias_initializer\": {\"class_name\": \"Zeros\", \"config\": {}}, \"kernel_regularizer\": null, \"bias_regularizer\": null, \"activity_regularizer\": null, \"kernel_constraint\": null, \"bias_constraint\": null}}, {\"class_name\": \"Dense\", \"config\": {\"name\": \"dense_4\", \"trainable\": true, \"dtype\": \"float32\", \"units\": 32, \"activation\": \"relu\", \"use_bias\": true, \"kernel_initializer\": {\"class_name\": \"GlorotUniform\", \"config\": {\"seed\": null}}, \"bias_initializer\": {\"class_name\": \"Zeros\", \"config\": {}}, \"kernel_regularizer\": null, \"bias_regularizer\": null, \"activity_regularizer\": null, \"kernel_constraint\": null, \"bias_constraint\": null}}, {\"class_name\": \"Dense\", \"config\": {\"name\": \"dense_5\", \"trainable\": true, \"dtype\": \"float32\", \"units\": 2, \"activation\": \"softmax\", \"use_bias\": true, \"kernel_initializer\": {\"class_name\": \"GlorotUniform\", \"config\": {\"seed\": null}}, \"bias_initializer\": {\"class_name\": \"Zeros\", \"config\": {}}, \"kernel_regularizer\": null, \"bias_regularizer\": null, \"activity_regularizer\": null, \"kernel_constraint\": null, \"bias_constraint\": null}}]}, \"keras_version\": \"2.8.0\", \"backend\": \"tensorflow\"}'"
      ]
     },
     "execution_count": 98,
     "metadata": {},
     "output_type": "execute_result"
    }
   ],
   "source": [
    "json_string"
   ]
  },
  {
   "cell_type": "code",
   "execution_count": 99,
   "id": "5f4b64f3",
   "metadata": {},
   "outputs": [],
   "source": [
    "model.save_weights(\"model_ANN_weights.h5\")"
   ]
  },
  {
   "cell_type": "code",
   "execution_count": 100,
   "id": "983528f7",
   "metadata": {},
   "outputs": [],
   "source": [
    "model2=Sequential([\n",
    "    Dense(units=16,input_shape=(1,),activation=\"relu\"),\n",
    "    Dense(units=32,activation=\"relu\"),\n",
    "    Dense(units=2,activation=\"softmax\")\n",
    "])"
   ]
  },
  {
   "cell_type": "code",
   "execution_count": 101,
   "id": "c6ee2321",
   "metadata": {},
   "outputs": [],
   "source": [
    "model2.load_weights(\"model_ANN_weights.h5\")"
   ]
  },
  {
   "cell_type": "code",
   "execution_count": 103,
   "id": "6f5294fd",
   "metadata": {},
   "outputs": [
    {
     "data": {
      "text/plain": [
       "[array([[-0.34753388, -0.0636487 , -0.05085206, -0.27627534, -0.03708988,\n",
       "          0.26212853,  0.30754185, -0.19937563, -0.3399579 , -0.59086746,\n",
       "         -0.10424989, -0.41664332, -0.40137053,  0.65642023, -0.01833791,\n",
       "         -0.5625322 ]], dtype=float32),\n",
       " array([ 0.        ,  0.        ,  0.        ,  0.        ,  0.        ,\n",
       "        -0.0007632 , -0.07492477,  0.17462187,  0.        ,  0.        ,\n",
       "         0.        ,  0.        ,  0.        , -0.083587  ,  0.        ,\n",
       "         0.        ], dtype=float32),\n",
       " array([[ 3.11071128e-01, -2.78314263e-01,  1.77102238e-01,\n",
       "          2.20243663e-01,  3.22945982e-01,  3.46935481e-01,\n",
       "         -9.12007987e-02, -1.43536031e-02, -2.23286331e-01,\n",
       "         -2.43079156e-01, -1.62301108e-01, -2.64636010e-01,\n",
       "          2.52559274e-01,  3.06098491e-01, -1.59889624e-01,\n",
       "         -1.78153798e-01, -2.46211261e-01, -4.34812903e-03,\n",
       "         -1.27933323e-02,  5.25504649e-02,  3.35691273e-02,\n",
       "         -3.07295442e-01, -7.42248893e-02, -2.33482838e-01,\n",
       "          1.99996561e-01,  1.79206938e-01, -2.59573758e-01,\n",
       "          6.98285699e-02, -2.92988181e-01,  2.35007137e-01,\n",
       "          3.57571244e-02,  2.09444016e-01],\n",
       "        [-3.38190436e-01,  5.73432446e-02,  1.08939320e-01,\n",
       "          1.91961676e-01,  5.29151857e-02, -1.87632293e-01,\n",
       "         -8.02665651e-02, -2.82212943e-01,  5.84440231e-02,\n",
       "         -1.69257864e-01, -1.30506158e-02, -2.55113691e-01,\n",
       "         -2.70633578e-01, -2.60661304e-01,  2.05652446e-01,\n",
       "          2.43116230e-01, -1.36801243e-01,  1.35217875e-01,\n",
       "         -6.19125366e-02,  2.91191787e-01,  8.28419030e-02,\n",
       "         -3.21688265e-01,  2.81163484e-01,  1.05012506e-01,\n",
       "          2.91602939e-01, -2.29567230e-01,  3.02884877e-02,\n",
       "         -5.76725602e-02,  3.41464967e-01, -1.29781961e-02,\n",
       "         -1.97258204e-01,  1.36146724e-01],\n",
       "        [-4.07469869e-02, -2.03713477e-02,  2.24500299e-02,\n",
       "         -1.79462969e-01, -2.24415272e-01,  2.20188111e-01,\n",
       "          2.31068432e-02, -3.31058264e-01,  2.29243428e-01,\n",
       "          1.18519455e-01,  2.43395776e-01, -8.47370923e-02,\n",
       "         -1.62547320e-01, -2.25793481e-01,  2.30417639e-01,\n",
       "          3.28631848e-01, -6.90525472e-02,  8.74102116e-02,\n",
       "         -3.03495646e-01, -2.60885656e-02,  1.89384848e-01,\n",
       "          1.41891539e-02,  7.98875690e-02,  2.93031365e-01,\n",
       "         -3.02307367e-01, -2.75121897e-01, -1.81409553e-01,\n",
       "          2.59109110e-01, -1.00525975e-01,  2.92835444e-01,\n",
       "          3.47730190e-01, -1.09947801e-01],\n",
       "        [-1.53079972e-01, -2.36709416e-02, -2.80475140e-01,\n",
       "          8.35540295e-02, -1.21532708e-01,  1.81434602e-01,\n",
       "         -9.20172632e-02, -2.10531682e-01,  2.92592257e-01,\n",
       "         -3.46620142e-01,  2.33477622e-01,  3.47126812e-01,\n",
       "         -3.90991271e-02,  2.21517980e-02, -1.32782638e-01,\n",
       "         -3.77932489e-02,  1.50462657e-01,  3.27316195e-01,\n",
       "          7.84179270e-02,  1.06386483e-01,  2.85462141e-02,\n",
       "         -2.05988675e-01, -2.20747486e-01, -2.47794896e-01,\n",
       "         -3.43128860e-01,  9.59401429e-02, -1.66183174e-01,\n",
       "         -1.73407972e-01,  3.27613741e-01,  1.11892223e-02,\n",
       "          1.68664128e-01,  3.49088699e-01],\n",
       "        [ 1.01453960e-01, -2.93967366e-01,  2.04718858e-01,\n",
       "         -1.61496356e-01,  2.91353732e-01, -1.12617478e-01,\n",
       "          3.47903460e-01,  2.60525495e-01,  2.54521698e-01,\n",
       "          1.02899015e-01, -1.64415866e-01, -3.46076190e-01,\n",
       "         -2.46483192e-01, -7.19718039e-02,  2.17587143e-01,\n",
       "          4.47919965e-02, -2.43960023e-01,  2.07762688e-01,\n",
       "          8.51103663e-03, -3.48908603e-02, -7.72240758e-03,\n",
       "          5.64958155e-02, -2.00644284e-01, -1.27537459e-01,\n",
       "          1.92110807e-01,  1.03631943e-01, -2.30002090e-01,\n",
       "          2.96800524e-01,  2.71716326e-01,  2.30537385e-01,\n",
       "          7.93546736e-02, -1.12574145e-01],\n",
       "        [-3.70083153e-02, -2.43517995e-01,  1.41283825e-01,\n",
       "          3.01197141e-01,  2.27882683e-01,  3.37111503e-01,\n",
       "         -4.27669212e-02,  4.49564517e-01,  4.73368734e-01,\n",
       "         -2.24951386e-01,  4.57996070e-01,  5.33018887e-01,\n",
       "         -6.47339299e-02, -8.96209180e-02, -2.98523128e-01,\n",
       "          1.08629771e-01,  1.41268879e-01,  2.74593890e-01,\n",
       "          3.24638814e-01,  1.76545009e-01,  3.31548184e-01,\n",
       "         -3.81573707e-01,  5.94584122e-02,  1.29403666e-01,\n",
       "          1.74591362e-01,  5.55131137e-01, -2.89547503e-01,\n",
       "          1.91273123e-01,  2.15738326e-01,  1.89623326e-01,\n",
       "         -1.64791226e-01, -1.28464038e-02],\n",
       "        [-1.13476515e-01, -9.43158865e-02,  6.20178282e-01,\n",
       "         -1.05120808e-01, -5.83607256e-02, -3.17246079e-01,\n",
       "         -2.59977549e-01,  2.94484019e-01,  1.14436150e-01,\n",
       "         -4.34656084e-01,  5.48244417e-01,  5.09911597e-01,\n",
       "         -4.68857318e-01, -1.22374818e-01, -2.46453509e-01,\n",
       "         -2.13708803e-01,  1.07389130e-01,  4.75096673e-01,\n",
       "          3.08215320e-01,  5.47223330e-01,  4.69595939e-01,\n",
       "         -3.86388659e-01,  2.72303522e-01,  6.13967590e-02,\n",
       "         -6.29218400e-01,  5.64183891e-01,  2.14720577e-01,\n",
       "         -5.98761261e-01, -2.99044371e-01, -2.15494052e-01,\n",
       "         -1.81991264e-01,  2.84320027e-01],\n",
       "        [-2.80508608e-01, -1.72333151e-01, -3.30603272e-01,\n",
       "         -1.40239209e-01, -3.38192791e-01, -3.49170268e-01,\n",
       "          3.78907830e-01, -4.87351954e-01, -5.88348508e-01,\n",
       "          3.28269094e-01, -5.97513497e-01, -2.26265669e-01,\n",
       "          7.02110291e-01,  3.98028642e-01,  6.17033243e-01,\n",
       "          3.14452469e-01, -6.84032917e-01, -1.54961482e-01,\n",
       "         -7.13366196e-02, -5.26041210e-01, -5.71834862e-01,\n",
       "          3.27565134e-01, -4.84518588e-01,  9.41848382e-02,\n",
       "          7.38594472e-01, -6.39471054e-01, -3.23722273e-01,\n",
       "          7.13039100e-01, -1.45341828e-01, -8.64222348e-02,\n",
       "         -2.06382319e-01,  1.59171168e-02],\n",
       "        [ 6.79937303e-02, -5.07742167e-02,  2.84593970e-01,\n",
       "         -2.98316389e-01,  2.81699866e-01, -3.97263467e-02,\n",
       "         -1.60853952e-01, -1.97702765e-01, -2.50757903e-01,\n",
       "          2.91465670e-01,  1.06692642e-01, -2.97138304e-01,\n",
       "         -8.10730159e-02, -1.07735947e-01,  2.54257619e-02,\n",
       "         -1.80950493e-01, -3.46999973e-01,  2.18023628e-01,\n",
       "          2.54629225e-01, -1.53720424e-01, -7.00946748e-02,\n",
       "         -2.13146389e-01, -2.91422874e-01, -9.23531950e-02,\n",
       "          5.35871983e-02, -3.48718375e-01, -3.00556600e-01,\n",
       "          2.97519565e-02,  7.19601810e-02, -3.26482713e-01,\n",
       "         -2.49360308e-01,  1.75772399e-01],\n",
       "        [ 1.82291418e-01,  2.67139286e-01,  1.95656210e-01,\n",
       "          2.43592173e-01, -3.46101582e-01, -9.31301713e-03,\n",
       "         -1.15737349e-01, -2.74430007e-01,  5.26107252e-02,\n",
       "         -6.19597435e-02, -2.64591277e-02,  4.71023917e-02,\n",
       "         -3.69025171e-02, -3.05396557e-01, -1.88505903e-01,\n",
       "          4.23634052e-02, -5.28614223e-02,  5.23301959e-02,\n",
       "          3.09072524e-01, -3.11261207e-01,  3.96395326e-02,\n",
       "         -3.48125964e-01,  8.67995918e-02, -2.23653421e-01,\n",
       "         -5.79617023e-02,  7.19925761e-03,  1.47079021e-01,\n",
       "          5.46014011e-02,  3.52004468e-02,  2.34613806e-01,\n",
       "         -3.52227360e-01,  1.50447458e-01],\n",
       "        [-8.11162591e-02, -2.43345112e-01, -2.22142890e-01,\n",
       "          3.42167169e-01, -1.38522267e-01, -4.76218164e-02,\n",
       "         -1.36183038e-01, -1.85471773e-03, -7.65049458e-03,\n",
       "         -4.83544171e-02, -3.11254978e-01, -3.26081306e-01,\n",
       "         -7.65978396e-02,  1.92567706e-03, -1.06626123e-01,\n",
       "          3.20110321e-02, -1.86709523e-01, -2.55045414e-01,\n",
       "          5.04114926e-02,  3.08339030e-01, -1.93887725e-01,\n",
       "         -2.39686668e-01, -2.73935378e-01,  3.18738818e-02,\n",
       "          2.83317834e-01,  2.03978330e-01,  5.37725389e-02,\n",
       "         -5.67455888e-02,  2.64773756e-01,  1.39886737e-01,\n",
       "          2.54446179e-01,  1.73013896e-01],\n",
       "        [-2.21713915e-01, -1.53417975e-01, -2.57617891e-01,\n",
       "          2.92746276e-01, -2.62620389e-01,  2.72806615e-01,\n",
       "         -7.59702921e-02,  2.21131355e-01, -3.47805411e-01,\n",
       "         -2.75537193e-01,  1.59482747e-01,  3.38938564e-01,\n",
       "         -3.29776317e-01, -2.22004056e-01, -1.47765279e-02,\n",
       "         -1.58369228e-01, -2.70932913e-04,  2.85293728e-01,\n",
       "         -4.67613339e-02, -2.12255403e-01,  1.97812408e-01,\n",
       "          3.45536143e-01, -2.80001730e-01,  1.37879521e-01,\n",
       "         -2.63636202e-01,  3.24669570e-01,  2.59197146e-01,\n",
       "          1.51617318e-01, -2.81110793e-01,  7.24656880e-02,\n",
       "         -1.05088279e-01, -1.11013621e-01],\n",
       "        [ 1.09122306e-01, -2.32870936e-01, -1.28824785e-01,\n",
       "          1.51054889e-01, -6.98798895e-02, -3.01625013e-01,\n",
       "          9.02883112e-02, -1.66597962e-03, -2.41123050e-01,\n",
       "          2.74528563e-02,  2.86687583e-01, -1.01329118e-01,\n",
       "          2.76927322e-01, -2.97076344e-01, -2.46058777e-01,\n",
       "         -6.44016564e-02,  4.70477343e-03,  1.87925309e-01,\n",
       "          1.23833686e-01,  1.51522964e-01, -3.63381803e-02,\n",
       "         -1.19543552e-01, -6.76214993e-02, -1.02786988e-01,\n",
       "         -3.57227325e-02, -9.79813039e-02, -4.95138764e-02,\n",
       "         -1.74501687e-01,  3.53482634e-01, -6.37495518e-03,\n",
       "          4.44408953e-02,  1.61304086e-01],\n",
       "        [-1.27897263e-02, -4.06327844e-03,  1.70118853e-01,\n",
       "         -9.55024064e-02, -1.25078350e-01, -1.35832131e-01,\n",
       "         -1.24952674e-01,  5.83482504e-01,  1.19050503e-01,\n",
       "         -5.10736629e-02,  4.85774517e-01,  4.77625459e-01,\n",
       "         -1.95424691e-01, -3.65801811e-01,  1.35037419e-03,\n",
       "         -3.64787132e-01,  3.83348733e-01,  4.48753178e-01,\n",
       "          1.28375053e-01,  5.60291588e-01,  6.05542243e-01,\n",
       "         -7.72115067e-02,  4.83606696e-01, -3.92321199e-02,\n",
       "         -2.57491291e-01,  3.43379676e-01, -1.08309478e-01,\n",
       "         -3.71741503e-01, -6.12070672e-02, -6.11444041e-02,\n",
       "         -2.05713540e-01, -1.19769454e-01],\n",
       "        [ 2.24273175e-01,  1.57076269e-01, -7.21791685e-02,\n",
       "         -1.02330357e-01,  9.13639069e-02,  1.85798734e-01,\n",
       "          1.02519512e-01,  2.02689320e-01,  1.58495098e-01,\n",
       "          1.38543099e-01, -2.19274625e-01, -1.69437066e-01,\n",
       "          1.86189443e-01, -1.12919077e-01,  3.40462178e-01,\n",
       "         -3.58433723e-02,  2.70143062e-01,  2.78585345e-01,\n",
       "          3.38367313e-01,  5.90637624e-02, -2.34387308e-01,\n",
       "          3.03931206e-01, -3.06189924e-01,  1.62666947e-01,\n",
       "          3.19961935e-01, -1.32422745e-02,  7.15368688e-02,\n",
       "          1.07946336e-01,  1.24026358e-01,  9.81212258e-02,\n",
       "          3.03370506e-01, -1.46188781e-01],\n",
       "        [-9.10399854e-02,  3.19344491e-01,  8.04087818e-02,\n",
       "          1.31060779e-01, -3.18230778e-01,  5.37841022e-02,\n",
       "         -1.05492711e-01, -5.78273237e-02,  2.09511727e-01,\n",
       "         -1.29249722e-01, -8.98308754e-02,  8.83571506e-02,\n",
       "         -3.38661134e-01,  3.16943258e-01,  3.01925153e-01,\n",
       "         -4.33061421e-02,  3.25804085e-01, -2.53507793e-01,\n",
       "         -1.02894008e-02,  2.87517309e-02, -3.40969443e-01,\n",
       "         -9.28497612e-02, -1.81703314e-01,  1.15583092e-01,\n",
       "         -1.71645314e-01, -3.15084100e-01,  3.22989255e-01,\n",
       "          2.88480818e-02,  1.56609446e-01,  2.53836364e-01,\n",
       "          3.10427219e-01,  5.76838851e-03]], dtype=float32),\n",
       " array([ 0.        ,  0.        , -0.01943594, -0.00236519, -0.00111244,\n",
       "        -0.00111231,  0.17520851, -0.05463783, -0.00345767,  0.16786875,\n",
       "        -0.04268785, -0.07100125,  0.20744947,  0.2303446 ,  0.16256544,\n",
       "         0.20865914, -0.00134493, -0.06818948, -0.0487916 , -0.04262669,\n",
       "        -0.04669931,  0.19546194, -0.02605685, -0.02583108,  0.21237902,\n",
       "        -0.03621919,  0.        ,  0.25965622, -0.00268797, -0.00198147,\n",
       "         0.        , -0.00346705], dtype=float32),\n",
       " array([[ 0.06169969, -0.34073737],\n",
       "        [ 0.21211717,  0.35321918],\n",
       "        [-0.27248037,  0.6267216 ],\n",
       "        [-0.39930993, -0.31951523],\n",
       "        [-0.11000517,  0.11693436],\n",
       "        [ 0.19932419,  0.36149976],\n",
       "        [ 0.02800709, -0.5407819 ],\n",
       "        [-0.46626163,  0.48753014],\n",
       "        [-0.6048802 ,  0.3469704 ],\n",
       "        [ 0.4118717 , -0.3427773 ],\n",
       "        [-0.47681436,  0.7123764 ],\n",
       "        [-0.6187876 ,  0.39160287],\n",
       "        [ 0.7057292 , -0.04170781],\n",
       "        [ 0.25049523, -0.7629883 ],\n",
       "        [ 0.25658485, -0.45358863],\n",
       "        [ 0.68870026, -0.61409014],\n",
       "        [-0.4492288 ,  0.7117547 ],\n",
       "        [-0.27802628,  0.16444026],\n",
       "        [-0.5046881 ,  0.06419377],\n",
       "        [-0.36091936,  0.19638443],\n",
       "        [-0.37392372,  0.46678898],\n",
       "        [ 0.24025458, -0.72672576],\n",
       "        [-0.655766  ,  0.24729171],\n",
       "        [ 0.00962249, -0.2686437 ],\n",
       "        [ 0.8295042 , -0.39305156],\n",
       "        [-0.3482865 ,  0.57048064],\n",
       "        [-0.14416671,  0.06651127],\n",
       "        [ 0.7566272 , -0.41609144],\n",
       "        [-0.26837713,  0.08818544],\n",
       "        [ 0.22287093,  0.22224374],\n",
       "        [-0.13086793,  0.22062048],\n",
       "        [-0.34446618, -0.03329849]], dtype=float32),\n",
       " array([ 0.14439921, -0.14439923], dtype=float32)]"
      ]
     },
     "execution_count": 103,
     "metadata": {},
     "output_type": "execute_result"
    }
   ],
   "source": [
    "model2.get_weights()"
   ]
  },
  {
   "cell_type": "code",
   "execution_count": null,
   "id": "5ebb3a6c",
   "metadata": {},
   "outputs": [],
   "source": [
    "#END THIS IS THE COMPLETE LECTURE FOR ANN CODE"
   ]
  }
 ],
 "metadata": {
  "kernelspec": {
   "display_name": "Python 3",
   "language": "python",
   "name": "python3"
  },
  "language_info": {
   "codemirror_mode": {
    "name": "ipython",
    "version": 3
   },
   "file_extension": ".py",
   "mimetype": "text/x-python",
   "name": "python",
   "nbconvert_exporter": "python",
   "pygments_lexer": "ipython3",
   "version": "3.8.8"
  }
 },
 "nbformat": 4,
 "nbformat_minor": 5
}
